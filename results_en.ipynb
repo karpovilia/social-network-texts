{
 "cells": [
  {
   "cell_type": "markdown",
   "metadata": {},
   "source": [
    "## Оглавление:\n",
    "1. [Normalized number of short words](#image_5)\n",
    "2. [Normalized number of adjectives in short form](#image_6)\n",
    "3. [Normalized number of adjectives in comparative and superlative degrees of comparison](#image_7)\n",
    "4. [Normalized number of personal pronouns](#image_8)\n",
    "5. [Normalized number of particles](#image_9)\n",
    "6. [Normalized number of particles «not»](#image_10)\n",
    "7. [Normalized number of conjunctions](#image_11)\n",
    "8. [Normalized number of conjunctions and conjunction words for sentences longer than ten](#image_12)\n",
    "9. [Normalized number of verbs](#image_13)\n",
    "10. [Normalized number of semi-cognitive verbs](#image_14)\n",
    "11. [Normalized number of numerals](#image_15)\n",
    "12. [Normalized number of adverbial participials](#image_16)\n",
    "13. [Normalized number of adverbial participial phrases](#image_17)\n",
    "14. [Normalized number of appositions](#image_18)\n",
    "15. [Normalized number of comment clauses](#image_19)\n",
    "16. [Normalized number of syllables](#image_20)\n",
    "17. [Normalized number of prepositional phrases](#image_21)\n",
    "18. [Normalized number of adverbal phrases](#image_22)\n",
    "19. [Normalized number of comment clauses](#image_23)\n",
    "20. [Normalized number of conjunction phrases](#image_24)\n",
    "21. [Presence and normalized number of appositions](#image_25)\n",
    "22. [Presence and normalized number of adverbials](#image_26)\n",
    "23. [Presence and normalized number of coordinated attributes](#image_27)\n",
    "24. [Presence and normalized number of combinations that carry the syntactic function of negation](#image_28)\n",
    "25. [Presence and normalized amount of complements](#image_29)\n",
    "26. [Presence and normalized number of incoordinated attributes](#image_30)\n",
    "27. [Presence and normalized number of direct objects](#image_31)\n",
    "28. [Presence and normalized number of indirect objects](#image_32)\n",
    "29. [Presence and normalized number of words with undefined syntactic link](#image_33)\n",
    "30. [Presence and normalized number of combinations with the syntactic function of the particle](#image_34)\n",
    "31. [Presence and normalized number of predicates](#image_35)\n",
    "32. [Presence and normalized number of combinations that carry the syntactic function of the preposition](#image_36)\n",
    "33. [Presence and normalized amount of subjects](#image_37)\n",
    "34. [Presence and normalized number of subordinate conjunctions](#image_38)\n",
    "35. [Presence and normalized number of correlative conjunctions](#image_39)\n",
    "36. [Presence and normalized number of adjectives with dependent words](#image_40)\n",
    "37. [Presence and normalized number of phrases of the modal verb and the infinitive](#image_41)\n",
    "38. [Presence and normalized number of infinitive phrases and nominal parts of speech](#image_42)\n",
    "39. [Normalized number of syntactic trigrams «Predicate_Object_CoordinatedAttribute»](#image_43)\n",
    "40. [Normalized number of syntactic trigrams «Predicate_Subject_CoordinatedAttribute»](#image_44)\n",
    "41. [Normalized number of syntactic trigrams «Predicate_Predicate_SubordinateConjunction»](#image_45)\n",
    "42. [Normalized number of syntactic trigrams «Predicate_Object_Adverbial»](#image_46)\n",
    "43. [Normalized number of syntactic trigrams «Predicate_Object_CorrelativeConjunction»](#image_47)\n",
    "44. [Normalized number of syntactic trigrams «Predicate_IndirectObject_CoordinatedAttribute»](#image_48)\n",
    "45. [Normalized number of syntactic trigrams «Predicate_Predicate_Subject»](#image_49)\n",
    "46. [Normalized number of syntactic trigrams «Predicate_Object_IndirectObject»](#image_50)\n",
    "47. [Normalized number of syntactic trigrams «Predicate_IndirectObject_IncoordinatedAttribute»](#image_51)\n",
    "48. [Normalized number of syntactic trigrams «Predicate_Adverbial_Adverbial»](#image_52)\n",
    "49. [Normalized number of syntactic trigrams «Predicate_Predicate_CorrelativeConjunction»](#image_53)\n",
    "50. [Normalized number of syntactic trigrams «Predicate_Predicate_Object»](#image_54)\n",
    "51. [Normalized number of syntactic trigrams «Object_IncoordinatedAttribute_CoordinatedAttribute»](#image_55)\n",
    "52. [Normalized number of syntactic trigrams «Predicate_Practicable_Adverbial»](#image_56)\n",
    "53. [Normalized number of syntactic trigrams «Predicate_Complement_CoordinatedAttribute»](#image_57)\n",
    "54. [Normalized number of syntactic trigrams «Predicate_Adverbial_CorrelativeConjunction»](#image_58)\n",
    "55. [Normalized number of syntactic trigrams «Predicate_Subject_IncoordinatedAttribute»](#image_59)\n",
    "56. [Normalized number of syntactic trigrams «Predicate_Adverbial_IndirectCompletion»](#image_60)\n",
    "57. [Normalized number of syntactic trigrams «Predicate_Subject_CorrelativeConjunction»](#image_61)\n",
    "58. [Normalized number of syntactic trigrams «Adverbial_IncoordinatedAttribute_CoordinatedAttribute»](#image_62)\n",
    "59. [Normalized number of syntactic trigrams «Predicate_Adverbial_SubordinateConjunction»](#image_63)\n",
    "60. [Normalized number of syntactic trigrams «Predicate_Subject_IndirectCompletion»](#image_64)\n",
    "61. [Normalized number of syntactic trigrams «Predicate_Predicate_IndirectCompletion»](#image_65)\n",
    "62. [Normalized number of syntax errors](#image_66)\n",
    "63. [Normalized number of sentences without syntactic structure](#image_67)\n",
    "64. [Normalized number of double spaces](#image_68)\n",
    "65. [Normalized number of prepositional phrases](#image_69)\n",
    "66. [Normalized number of adverbs](#image_70)\n",
    "67. [Normalized number of comment clauses](#image_71)\n",
    "68. [Normalized number of conjunction phrases](#image_72)\n",
    "69. [Normalized number of phrases with particle function](#image_73)\n",
    "70. [Normalized number of foreign words](#image_74)\n",
    "71. [Average word length](#image_75)\n",
    "72. [Average sentence length](#image_76)\n",
    "73. [Median Sentence Length](#image_77)\n",
    "74. [Maximum sentence length](#image_78)\n",
    "75. [Variance of sentence length](#image_79)\n"
   ]
  },
  {
   "cell_type": "markdown",
   "metadata": {},
   "source": [
    "## 1. Normalized number of short words<a class=\"anchor\" id=\"image_5\"></a>\n",
    "<img src=\"images/image (5).png\"/>"
   ]
  },
  {
   "cell_type": "markdown",
   "metadata": {},
   "source": [
    "## 2. Normalized number of adjectives in short form<a class=\"anchor\" id=\"image_6\"></a>\n",
    "<img src=\"images/image (6).png\"/>"
   ]
  },
  {
   "cell_type": "markdown",
   "metadata": {},
   "source": [
    "## 3. Normalized number of adjectives in comparative and superlative degrees of comparison<a class=\"anchor\" id=\"image_7\"></a>\n",
    "<img src=\"images/image (7).png\"/>"
   ]
  },
  {
   "cell_type": "markdown",
   "metadata": {},
   "source": [
    "## 4. Normalized number of personal pronouns class=\"anchor\" id=\"image_8\"></a>\n",
    "<img src=\"images/image (8).png\"/>"
   ]
  },
  {
   "cell_type": "markdown",
   "metadata": {},
   "source": [
    "## 5. Normalized number of particles<a class=\"anchor\" id=\"image_9\"></a>\n",
    "<img src=\"images/image (9).png\"/>"
   ]
  },
  {
   "cell_type": "markdown",
   "metadata": {},
   "source": [
    "## 6. Normalized number of particles "not"<a class=\"anchor\" id=\"image_10\"></a>\n",
    "<img src=\"images/image (10).png\"/>"
   ]
  },
  {
   "cell_type": "markdown",
   "metadata": {},
   "source": [
    "## 7. Normalized number of conjunctions<a class=\"anchor\" id=\"image_11\"></a>\n",
    "<img src=\"images/image (11).png\"/>"
   ]
  },
  {
   "cell_type": "markdown",
   "metadata": {},
   "source": [
    "## 8. Normalized number of conjunctions and conjunction words for sentences longer than ten<a class=\"anchor\" id=\"image_12\"></a>\n",
    "<img src=\"images/image (12).png\"/>"
   ]
  },
  {
   "cell_type": "markdown",
   "metadata": {},
   "source": [
    "## 9. Normalized number of verbs<a class=\"anchor\" id=\"image_13\"></a>\n",
    "<img src=\"images/image (13).png\"/>"
   ]
  },
  {
   "cell_type": "markdown",
   "metadata": {},
   "source": [
    "## 10. Normalized number of semi-cognitive verbs<a class=\"anchor\" id=\"image_14\"></a>\n",
    "<img src=\"images/image (14).png\"/>"
   ]
  },
  {
   "cell_type": "markdown",
   "metadata": {},
   "source": [
    "## 11. Normalized number of numerals<a class=\"anchor\" id=\"image_15\"></a>\n",
    "<img src=\"images/image (15).png\"/>"
   ]
  },
  {
   "cell_type": "markdown",
   "metadata": {},
   "source": [
    "## 12. Normalized number of adverbial participials<a class=\"anchor\" id=\"image_16\"></a>\n",
    "<img src=\"images/image (16).png\"/>"
   ]
  },
  {
   "cell_type": "markdown",
   "metadata": {},
   "source": [
    "## 13. Normalized number of adverbial participial phrases<a class=\"anchor\" id=\"image_17\"></a>\n",
    "<img src=\"images/image (17).png\"/>"
   ]
  },
  {
   "cell_type": "markdown",
   "metadata": {},
   "source": [
    "## 14. Normalized number of appositions<a class=\"anchor\" id=\"image_18\"></a>\n",
    "<img src=\"images/image (18).png\"/>"
   ]
  },
  {
   "cell_type": "markdown",
   "metadata": {},
   "source": [
    "## 15. Normalized number of comment clauses<a class=\"anchor\" id=\"image_19\"></a>\n",
    "<img src=\"images/image (19).png\"/>"
   ]
  },
  {
   "cell_type": "markdown",
   "metadata": {},
   "source": [
    "## 16. Normalized number of syllables<a class=\"anchor\" id=\"image_20\"></a>\n",
    "<img src=\"images/image (20).png\"/>"
   ]
  },
  {
   "cell_type": "markdown",
   "metadata": {},
   "source": [
    "## 17. Normalized number of prepositional phrases<a class=\"anchor\" id=\"image_21\"></a>\n",
    "<img src=\"images/image (21).png\"/>"
   ]
  },
  {
   "cell_type": "markdown",
   "metadata": {},
   "source": [
    "## 18. Normalized number of adverbal phrases<a class=\"anchor\" id=\"image_22\"></a>\n",
    "<img src=\"images/image (22).png\"/>"
   ]
  },
  {
   "cell_type": "markdown",
   "metadata": {},
   "source": [
    "## 19. Normalized number of comment clauses<a class=\"anchor\" id=\"image_23\"></a>\n",
    "<img src=\"images/image (23).png\"/>"
   ]
  },
  {
   "cell_type": "markdown",
   "metadata": {},
   "source": [
    "## 20. Normalized number of conjunction phrases<a class=\"anchor\" id=\"image_24\"></a>\n",
    "<img src=\"images/image (24).png\"/>"
   ]
  },
  {
   "cell_type": "markdown",
   "metadata": {},
   "source": [
    "## 21. Presence and normalized number of appositions<a class=\"anchor\" id=\"image_25\"></a>\n",
    "<img src=\"images/image (25).png\"/>"
   ]
  },
  {
   "cell_type": "markdown",
   "metadata": {},
   "source": [
    "## 22. Presence and normalized number of adverbials<a class=\"anchor\" id=\"image_26\"></a>\n",
    "<img src=\"images/image (26).png\"/>"
   ]
  },
  {
   "cell_type": "markdown",
   "metadata": {},
   "source": [
    "## 23. Presence and normalized number of coordinated attributes<a class=\"anchor\" id=\"image_27\"></a>\n",
    "<img src=\"images/image (27).png\"/>"
   ]
  },
  {
   "cell_type": "markdown",
   "metadata": {},
   "source": [
    "## 24. Presence and normalized number of combinations that carry the syntactic function of negation<a class=\"anchor\" id=\"image_28\"></a>\n",
    "<img src=\"images/image (28).png\"/>"
   ]
  },
  {
   "cell_type": "markdown",
   "metadata": {},
   "source": [
    "## 25. Presence and normalized amount of complements<a class=\"anchor\" id=\"image_29\"></a>\n",
    "<img src=\"images/image (29).png\"/>"
   ]
  },
  {
   "cell_type": "markdown",
   "metadata": {},
   "source": [
    "## 26. Presence and normalized number of incoordinated attributes<a class=\"anchor\" id=\"image_30\"></a>\n",
    "<img src=\"images/image (30).png\"/>"
   ]
  },
  {
   "cell_type": "markdown",
   "metadata": {},
   "source": [
    "## 27. Presence and normalized number of direct objects<a class=\"anchor\" id=\"image_31\"></a>\n",
    "<img src=\"images/image (31).png\"/>"
   ]
  },
  {
   "cell_type": "markdown",
   "metadata": {},
   "source": [
    "## 28. Presence and normalized number of indirect objects<a class=\"anchor\" id=\"image_32\"></a>\n",
    "<img src=\"images/image (32).png\"/>"
   ]
  },
  {
   "cell_type": "markdown",
   "metadata": {},
   "source": [
    "## 29. Presence and normalized number of words with undefined syntactic link<a class=\"anchor\" id=\"image_33\"></a>\n",
    "<img src=\"images/image (33).png\"/>"
   ]
  },
  {
   "cell_type": "markdown",
   "metadata": {},
   "source": [
    "## 30. Presence and normalized number of combinations with the syntactic function of the particle<a class=\"anchor\" id=\"image_34\"></a>\n",
    "<img src=\"images/image (34).png\"/>"
   ]
  },
  {
   "cell_type": "markdown",
   "metadata": {},
   "source": [
    "## 31. Presence and normalized number of predicates<a class=\"anchor\" id=\"image_35\"></a>\n",
    "<img src=\"images/image (35).png\"/>"
   ]
  },
  {
   "cell_type": "markdown",
   "metadata": {},
   "source": [
    "## 32. Presence and normalized number of combinations that carry the syntactic function of the preposition<a class=\"anchor\" id=\"image_36\"></a>\n",
    "<img src=\"images/image (36).png\"/>"
   ]
  },
  {
   "cell_type": "markdown",
   "metadata": {},
   "source": [
    "## 33. Presence and normalized amount of subjects<a class=\"anchor\" id=\"image_37\"></a>\n",
    "<img src=\"images/image (37).png\"/>"
   ]
  },
  {
   "cell_type": "markdown",
   "metadata": {},
   "source": [
    "## 34. Presence and normalized number of subordinate conjunctions<a class=\"anchor\" id=\"image_38\"></a>\n",
    "<img src=\"images/image (38).png\"/>"
   ]
  },
  {
   "cell_type": "markdown",
   "metadata": {},
   "source": [
    "## 35. Presence and normalized number of correlative conjunctions<a class=\"anchor\" id=\"image_39\"></a>\n",
    "<img src=\"images/image (39).png\"/>"
   ]
  },
  {
   "cell_type": "markdown",
   "metadata": {},
   "source": [
    "## 36. Presence and normalized number of adjectives with dependent words<a class=\"anchor\" id=\"image_40\"></a>\n",
    "<img src=\"images/image (40).png\"/>"
   ]
  },
  {
   "cell_type": "markdown",
   "metadata": {},
   "source": [
    "## 37. Presence and normalized number of phrases of the modal verb and the infinitive<a class=\"anchor\" id=\"image_41\"></a>\n",
    "<img src=\"images/image (41).png\"/>"
   ]
  },
  {
   "cell_type": "markdown",
   "metadata": {},
   "source": [
    "## 38. Presence and normalized number of infinitive phrases and nominal parts of speech<a class=\"anchor\" id=\"image_42\"></a>\n",
    "<img src=\"images/image (42).png\"/>"
   ]
  },
  {
   "cell_type": "markdown",
   "metadata": {},
   "source": [
    "## 39. Normalized number of syntactic trigrams "Predicate_Object_CoordinatedAttribute"<a class=\"anchor\" id=\"image_43\"></a>\n",
    "<img src=\"images/image (43).png\"/>"
   ]
  },
  {
   "cell_type": "markdown",
   "metadata": {},
   "source": [
    "## 40. Normalized number of syntactic trigrams "Predicate_Subject_CoordinatedAttribute"<a class=\"anchor\" id=\"image_44\"></a>\n",
    "<img src=\"images/image (44).png\"/>"
   ]
  },
  {
   "cell_type": "markdown",
   "metadata": {},
   "source": [
    "## 41. Normalized number of syntactic trigrams "Predicate_Predicate_SubordinateConjunction"<a class=\"anchor\" id=\"image_45\"></a>\n",
    "<img src=\"images/image (45).png\"/>"
   ]
  },
  {
   "cell_type": "markdown",
   "metadata": {},
   "source": [
    "## 42. Normalized number of syntactic trigrams "Predicate_Object_Adverbial"<a class=\"anchor\" id=\"image_46\"></a>\n",
    "<img src=\"images/image (46).png\"/>"
   ]
  },
  {
   "cell_type": "markdown",
   "metadata": {},
   "source": [
    "## 43. Normalized number of syntactic trigrams "Predicate_Object_CorrelativeConjunction"<a class=\"anchor\" id=\"image_47\"></a>\n",
    "<img src=\"images/image (47).png\"/>"
   ]
  },
  {
   "cell_type": "markdown",
   "metadata": {},
   "source": [
    "## 44. Normalized number of syntactic trigrams "Predicate_IndirectObject_CoordinatedAttribute"<a class=\"anchor\" id=\"image_48\"></a>\n",
    "<img src=\"images/image (48).png\"/>"
   ]
  },
  {
   "cell_type": "markdown",
   "metadata": {},
   "source": [
    "## 45. Normalized number of syntactic trigrams "Predicate_Predicate_Subject"<a class=\"anchor\" id=\"image_49\"></a>\n",
    "<img src=\"images/image (49).png\"/>"
   ]
  },
  {
   "cell_type": "markdown",
   "metadata": {},
   "source": [
    "## 46. Normalized number of syntactic trigrams "Predicate_Object_IndirectObject"<a class=\"anchor\" id=\"image_50\"></a>\n",
    "<img src=\"images/image (50).png\"/>"
   ]
  },
  {
   "cell_type": "markdown",
   "metadata": {},
   "source": [
    "## 47. Normalized number of syntactic trigrams "Predicate_IndirectObject_IncoordinatedAttribute"<a class=\"anchor\" id=\"image_51\"></a>\n",
    "<img src=\"images/image (51).png\"/>"
   ]
  },
  {
   "cell_type": "markdown",
   "metadata": {},
   "source": [
    "## 48. Normalized number of syntactic trigrams "Predicate_Adverbial_Adverbial"<a class=\"anchor\" id=\"image_52\"></a>\n",
    "<img src=\"images/image (52).png\"/>"
   ]
  },
  {
   "cell_type": "markdown",
   "metadata": {},
   "source": [
    "## 49. Normalized number of syntactic trigrams "Predicate_Predicate_CorrelativeConjunction"<a class=\"anchor\" id=\"image_53\"></a>\n",
    "<img src=\"images/image (53).png\"/>"
   ]
  },
  {
   "cell_type": "markdown",
   "metadata": {},
   "source": [
    "## 50. Normalized number of syntactic trigrams "Predicate_Predicate_Object"<a class=\"anchor\" id=\"image_54\"></a>\n",
    "<img src=\"images/image (54).png\"/>"
   ]
  },
  {
   "cell_type": "markdown",
   "metadata": {},
   "source": [
    "## 51. Normalized number of syntactic trigrams "Object_IncoordinatedAttribute_CoordinatedAttribute"<a class=\"anchor\" id=\"image_55\"></a>\n",
    "<img src=\"images/image (55).png\"/>"
   ]
  },
  {
   "cell_type": "markdown",
   "metadata": {},
   "source": [
    "## 52. Normalized number of syntactic trigrams "Predicate_Practicable_Adverbial"<a class=\"anchor\" id=\"image_56\"></a>\n",
    "<img src=\"images/image (56).png\"/>"
   ]
  },
  {
   "cell_type": "markdown",
   "metadata": {},
   "source": [
    "## 53. Normalized number of syntactic trigrams "Predicate_Complement_CoordinatedAttribute"<a class=\"anchor\" id=\"image_57\"></a>\n",
    "<img src=\"images/image (57).png\"/>"
   ]
  },
  {
   "cell_type": "markdown",
   "metadata": {},
   "source": [
    "## 54. Normalized number of syntactic trigrams "Predicate_Adverbial_CorrelativeConjunction"<a class=\"anchor\" id=\"image_58\"></a>\n",
    "<img src=\"images/image (58).png\"/>"
   ]
  },
  {
   "cell_type": "markdown",
   "metadata": {},
   "source": [
    "## 55. Normalized number of syntactic trigrams "Predicate_Subject_IncoordinatedAttribute"<a class=\"anchor\" id=\"image_59\"></a>\n",
    "<img src=\"images/image (59).png\"/>"
   ]
  },
  {
   "cell_type": "markdown",
   "metadata": {},
   "source": [
    "## 56. Normalized number of syntactic trigrams "Predicate_Adverbial_IndirectCompletion"<a class=\"anchor\" id=\"image_60\"></a>\n",
    "<img src=\"images/image (60).png\"/>"
   ]
  },
  {
   "cell_type": "markdown",
   "metadata": {},
   "source": [
    "## 57. Normalized number of syntactic trigrams "Predicate_Subject_CorrelativeConjunction"<a class=\"anchor\" id=\"image_61\"></a>\n",
    "<img src=\"images/image (61).png\"/>"
   ]
  },
  {
   "cell_type": "markdown",
   "metadata": {},
   "source": [
    "## 58. Normalized number of syntactic trigrams "Adverbial_IncoordinatedAttribute_CoordinatedAttribute"<a class=\"anchor\" id=\"image_62\"></a>\n",
    "<img src=\"images/image (62).png\"/>"
   ]
  },
  {
   "cell_type": "markdown",
   "metadata": {},
   "source": [
    "## 59. Normalized number of syntactic trigrams "Predicate_Adverbial_SubordinateConjunction"<a class=\"anchor\" id=\"image_63\"></a>\n",
    "<img src=\"images/image (63).png\"/>"
   ]
  },
  {
   "cell_type": "markdown",
   "metadata": {},
   "source": [
    "## 60. Normalized number of syntactic trigrams "Predicate_Subject_IndirectCompletion"<a class=\"anchor\" id=\"image_64\"></a>\n",
    "<img src=\"images/image (64).png\"/>"
   ]
  },
  {
   "cell_type": "markdown",
   "metadata": {},
   "source": [
    "## 61. Normalized number of syntactic trigrams "Predicate_Predicate_IndirectCompletion"<a class=\"anchor\" id=\"image_65\"></a>\n",
    "<img src=\"images/image (65).png\"/>"
   ]
  },
  {
   "cell_type": "markdown",
   "metadata": {},
   "source": [
    "## 62. Normalized number of syntax errors<a class=\"anchor\" id=\"image_66\"></a>\n",
    "<img src=\"images/image (66).png\"/>"
   ]
  },
  {
   "cell_type": "markdown",
   "metadata": {},
   "source": [
    "## 63. Normalized number of sentences without syntactic structure<a class=\"anchor\" id=\"image_67\"></a>\n",
    "<img src=\"images/image (67).png\"/>"
   ]
  },
  {
   "cell_type": "markdown",
   "metadata": {},
   "source": [
    "## 64. Normalized number of double spaces<a class=\"anchor\" id=\"image_68\"></a>\n",
    "<img src=\"images/image (68).png\"/>"
   ]
  },
  {
   "cell_type": "markdown",
   "metadata": {},
   "source": [
    "## 65. Normalized number of prepositional phrases<a class=\"anchor\" id=\"image_69\"></a>\n",
    "<img src=\"images/image (69).png\"/>"
   ]
  },
  {
   "cell_type": "markdown",
   "metadata": {},
   "source": [
    "## 66. Normalized number of adverbs<a class=\"anchor\" id=\"image_70\"></a>\n",
    "<img src=\"images/image (70).png\"/>"
   ]
  },
  {
   "cell_type": "markdown",
   "metadata": {},
   "source": [
    "## 67. Normalized number of comment clauses<a class=\"anchor\" id=\"image_71\"></a>\n",
    "<img src=\"images/image (71).png\"/>"
   ]
  },
  {
   "cell_type": "markdown",
   "metadata": {},
   "source": [
    "## 68. Normalized number of conjunction phrases<a class=\"anchor\" id=\"image_72\"></a>\n",
    "<img src=\"images/image (72).png\"/>"
   ]
  },
  {
   "cell_type": "markdown",
   "metadata": {},
   "source": [
    "## 69. Normalized number of phrases with particle function<a class=\"anchor\" id=\"image_73\"></a>\n",
    "<img src=\"images/image (73).png\"/>"
   ]
  },
  {
   "cell_type": "markdown",
   "metadata": {},
   "source": [
    "## 70. Normalized number of foreign words<a class=\"anchor\" id=\"image_74\"></a>\n",
    "<img src=\"images/image (74).png\"/>"
   ]
  },
  {
   "cell_type": "markdown",
   "metadata": {},
   "source": [
    "## 71. Average word length<a class=\"anchor\" id=\"image_75\"></a>\n",
    "<img src=\"images/image (75).png\"/>"
   ]
  },
  {
   "cell_type": "markdown",
   "metadata": {},
   "source": [
    "## 72. Average sentence length<a class=\"anchor\" id=\"image_76\"></a>\n",
    "<img src=\"images/image (76).png\"/>"
   ]
  },
  {
   "cell_type": "markdown",
   "metadata": {},
   "source": [
    "## 73. Median Sentence Length<a class=\"anchor\" id=\"image_77\"></a>\n",
    "<img src=\"images/image (77).png\"/>"
   ]
  },
  {
   "cell_type": "markdown",
   "metadata": {},
   "source": [
    "## 74. Maximum sentence length<a class=\"anchor\" id=\"image_78\"></a>\n",
    "<img src=\"images/image (78).png\"/>"
   ]
  },
  {
   "cell_type": "markdown",
   "metadata": {},
   "source": [
    "## 75. Variance of sentence length<a class=\"anchor\" id=\"image_79\"></a>\n",
    "<img src=\"images/image (79).png\"/>"
   ]
  }
 ],
 "metadata": {
  "kernelspec": {
   "display_name": "Python 3",
   "language": "python",
   "name": "python3"
  },
  "language_info": {
   "codemirror_mode": {
    "name": "ipython",
    "version": 3
   },
   "file_extension": ".py",
   "mimetype": "text/x-python",
   "name": "python",
   "nbconvert_exporter": "python",
   "pygments_lexer": "ipython3",
   "version": "3.6.8"
  }
 },
 "nbformat": 4,
 "nbformat_minor": 4
}
